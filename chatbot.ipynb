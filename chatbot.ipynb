{
  "nbformat": 4,
  "nbformat_minor": 0,
  "metadata": {
    "colab": {
      "provenance": [],
      "authorship_tag": "ABX9TyNi+++0nzodgErep/SI2dxf",
      "include_colab_link": true
    },
    "kernelspec": {
      "name": "python3",
      "display_name": "Python 3"
    },
    "language_info": {
      "name": "python"
    }
  },
  "cells": [
    {
      "cell_type": "markdown",
      "metadata": {
        "id": "view-in-github",
        "colab_type": "text"
      },
      "source": [
        "<a href=\"https://colab.research.google.com/github/oshange/AI_First_project/blob/main/chatbot.ipynb\" target=\"_parent\"><img src=\"https://colab.research.google.com/assets/colab-badge.svg\" alt=\"Open In Colab\"/></a>"
      ]
    },
    {
      "cell_type": "code",
      "execution_count": null,
      "metadata": {
        "id": "viRYDNm4tyxU"
      },
      "outputs": [],
      "source": [
        "!pip install -q -U generativeai\n",
        "\n",
        "\n",
        "import google.generativeai as genai\n",
        "GOOGLE_API_KEY = \"\"\n",
        "genai.configure(api_key = GOOGLE_API_KEY)\n",
        "\n",
        "\n",
        "generation_config = {\n",
        "\n",
        "  \"candidate_count\" : 1,\n",
        "  \"temperature\" : 0.5,\n",
        "\n",
        "}\n",
        "\n",
        "safety_settings = {\n",
        "\n",
        "    \"harassment\" : \"BLOCK_NONE\",\n",
        "    \"hate\" : \"BLOCK_NONE\",\n",
        "    \"sexual\" : \"BLOCK_NONE\",\n",
        "}\n",
        "\n",
        "model = genai.GenerativeModel(model_name = \"gemini-1.0-pro\",generation_config = generation_config,safety_settings = safety_settings)\n",
        "\n",
        "\n",
        "response = model.generate_content(\"O que é o Deep Learning?\")\n",
        "#print(response.text)\n",
        "\n",
        "chat = model.start_chat(history = [])\n",
        "\n",
        "prompt = input(\"Conversar: \")\n",
        "while prompt != \"fim\":\n",
        "  response = chat.send_message(prompt)\n",
        "  print(response.text)\n",
        "  prompt = input(\"Conversar: \")"
      ]
    }
  ]
}